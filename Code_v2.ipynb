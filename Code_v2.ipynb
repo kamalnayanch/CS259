{
 "cells": [
  {
   "cell_type": "code",
   "execution_count": 1,
   "metadata": {},
   "outputs": [],
   "source": [
    "import numpy as np\n",
    "import pandas as pd\n",
    "import datetime"
   ]
  },
  {
   "cell_type": "code",
   "execution_count": 2,
   "metadata": {},
   "outputs": [],
   "source": [
    "# Load the pandas dataframe\n",
    "df_train = pd.read_csv('../Data/Data/train_users_2.csv')\n",
    "df_test = pd.read_csv('../Data/Data/test_users.csv')"
   ]
  },
  {
   "cell_type": "code",
   "execution_count": 3,
   "metadata": {},
   "outputs": [
    {
     "name": "stdout",
     "output_type": "stream",
     "text": [
      "           id date_account_created  timestamp_first_active date_first_booking  \\\n",
      "0  gxn3p5htnn           2010-06-28          20090319043255                NaN   \n",
      "1  820tgsjxq7           2011-05-25          20090523174809                NaN   \n",
      "2  4ft3gnwmtx           2010-09-28          20090609231247         2010-08-02   \n",
      "3  bjjt8pjhuk           2011-12-05          20091031060129         2012-09-08   \n",
      "4  87mebub9p4           2010-09-14          20091208061105         2010-02-18   \n",
      "\n",
      "      gender   age signup_method  signup_flow language affiliate_channel  \\\n",
      "0  -unknown-   NaN      facebook            0       en            direct   \n",
      "1       MALE  38.0      facebook            0       en               seo   \n",
      "2     FEMALE  56.0         basic            3       en            direct   \n",
      "3     FEMALE  42.0      facebook            0       en            direct   \n",
      "4  -unknown-  41.0         basic            0       en            direct   \n",
      "\n",
      "  affiliate_provider first_affiliate_tracked signup_app first_device_type  \\\n",
      "0             direct               untracked        Web       Mac Desktop   \n",
      "1             google               untracked        Web       Mac Desktop   \n",
      "2             direct               untracked        Web   Windows Desktop   \n",
      "3             direct               untracked        Web       Mac Desktop   \n",
      "4             direct               untracked        Web       Mac Desktop   \n",
      "\n",
      "  first_browser country_destination  \n",
      "0        Chrome                 NDF  \n",
      "1        Chrome                 NDF  \n",
      "2            IE                  US  \n",
      "3       Firefox               other  \n",
      "4        Chrome                  US  \n",
      "-----------\n",
      "<class 'pandas.core.frame.DataFrame'>\n",
      "RangeIndex: 213451 entries, 0 to 213450\n",
      "Data columns (total 16 columns):\n",
      "id                         213451 non-null object\n",
      "date_account_created       213451 non-null object\n",
      "timestamp_first_active     213451 non-null int64\n",
      "date_first_booking         88908 non-null object\n",
      "gender                     213451 non-null object\n",
      "age                        125461 non-null float64\n",
      "signup_method              213451 non-null object\n",
      "signup_flow                213451 non-null int64\n",
      "language                   213451 non-null object\n",
      "affiliate_channel          213451 non-null object\n",
      "affiliate_provider         213451 non-null object\n",
      "first_affiliate_tracked    207386 non-null object\n",
      "signup_app                 213451 non-null object\n",
      "first_device_type          213451 non-null object\n",
      "first_browser              213451 non-null object\n",
      "country_destination        213451 non-null object\n",
      "dtypes: float64(1), int64(2), object(13)\n",
      "memory usage: 26.1+ MB\n",
      "None\n",
      "<class 'pandas.core.frame.DataFrame'>\n",
      "RangeIndex: 62096 entries, 0 to 62095\n",
      "Data columns (total 15 columns):\n",
      "id                         62096 non-null object\n",
      "date_account_created       62096 non-null object\n",
      "timestamp_first_active     62096 non-null int64\n",
      "date_first_booking         0 non-null float64\n",
      "gender                     62096 non-null object\n",
      "age                        33220 non-null float64\n",
      "signup_method              62096 non-null object\n",
      "signup_flow                62096 non-null int64\n",
      "language                   62096 non-null object\n",
      "affiliate_channel          62096 non-null object\n",
      "affiliate_provider         62096 non-null object\n",
      "first_affiliate_tracked    62076 non-null object\n",
      "signup_app                 62096 non-null object\n",
      "first_device_type          62096 non-null object\n",
      "first_browser              62096 non-null object\n",
      "dtypes: float64(2), int64(2), object(11)\n",
      "memory usage: 7.1+ MB\n",
      "None\n"
     ]
    }
   ],
   "source": [
    "#Sanity Check and Property Check\n",
    "print(df_train.head())\n",
    "print('-----------')\n",
    "print(df_train.info())\n",
    "print(df_test.info())"
   ]
  },
  {
   "cell_type": "code",
   "execution_count": 4,
   "metadata": {},
   "outputs": [
    {
     "name": "stdout",
     "output_type": "stream",
     "text": [
      "0      NDF\n",
      "1      NDF\n",
      "2       US\n",
      "3    other\n",
      "4       US\n",
      "Name: country_destination, dtype: object\n",
      "<class 'pandas.core.frame.DataFrame'>\n",
      "Int64Index: 275547 entries, 0 to 62095\n",
      "Data columns (total 13 columns):\n",
      "date_account_created       275547 non-null object\n",
      "timestamp_first_active     275547 non-null int64\n",
      "gender                     275547 non-null object\n",
      "age                        158681 non-null float64\n",
      "signup_method              275547 non-null object\n",
      "signup_flow                275547 non-null int64\n",
      "language                   275547 non-null object\n",
      "affiliate_channel          275547 non-null object\n",
      "affiliate_provider         275547 non-null object\n",
      "first_affiliate_tracked    269462 non-null object\n",
      "signup_app                 275547 non-null object\n",
      "first_device_type          275547 non-null object\n",
      "first_browser              275547 non-null object\n",
      "dtypes: float64(1), int64(2), object(10)\n",
      "memory usage: 29.4+ MB\n",
      "None\n"
     ]
    }
   ],
   "source": [
    "# Labels of the data\n",
    "labels = df_train['country_destination']\n",
    "print(labels.head())\n",
    "\n",
    "# Dropping columns that are not required\n",
    "df_train = df_train.drop(columns=['country_destination'])\n",
    "df_combined = pd.concat([df_train,df_test])\n",
    "df_combined = df_combined.drop(columns=['date_first_booking','id'])\n",
    "print(df_combined.info())"
   ]
  },
  {
   "cell_type": "code",
   "execution_count": 5,
   "metadata": {},
   "outputs": [],
   "source": [
    "# Feature Engineering for each column\n",
    "\n",
    "# First: Date Account Created\n",
    "df_combined['date_account_created'] = pd.to_datetime(df_combined['date_account_created'], format= \"%Y-%m-%d\")\n",
    "df_combined['year_account_created'] = df_combined['date_account_created'].dt.year\n",
    "df_combined['month_account_created'] = df_combined['date_account_created'].dt.month\n",
    "df_combined['week_account_created'] = df_combined['date_account_created'].dt.week\n",
    "df_combined['weekday_account_created'] = df_combined['date_account_created'].dt.weekday\n",
    "df_combined['day_account_created'] = df_combined['date_account_created'].dt.day\n",
    "df_combined = df_combined.drop(columns=['date_account_created'])"
   ]
  },
  {
   "cell_type": "code",
   "execution_count": 6,
   "metadata": {},
   "outputs": [],
   "source": [
    "# Second: Timestamp_first_active\n",
    "def preprocess_timestamp(timestamp):\n",
    "    timestamp = str(timestamp)\n",
    "    timestamp = timestamp[0:8]\n",
    "    return pd.to_datetime(timestamp,format='%Y%m%d')\n",
    "\n",
    "df_combined['timestamp_first_active'] = df_combined['timestamp_first_active'].apply(preprocess_timestamp)\n",
    "df_combined['year_first_used'] = df_combined['timestamp_first_active'].dt.year\n",
    "df_combined['month_first_used'] = df_combined['timestamp_first_active'].dt.month\n",
    "df_combined['week_first_used'] = df_combined['timestamp_first_active'].dt.week\n",
    "df_combined['weekday_first_used'] = df_combined['timestamp_first_active'].dt.weekday\n",
    "df_combined['day_first_used'] = df_combined['timestamp_first_active'].dt.day\n",
    "df_combined = df_combined.drop(columns=['timestamp_first_active'])"
   ]
  },
  {
   "cell_type": "code",
   "execution_count": 7,
   "metadata": {},
   "outputs": [],
   "source": [
    "# Third: Age: Remove outliers\n",
    "age_values = df_combined['age'].values\n",
    "mean_age = 0\n",
    "count_age = 0\n",
    "for i in range(np.shape(age_values)[0]):\n",
    "    if age_values[i]<16 or age_values[i] >80 or np.isnan(age_values[i]):\n",
    "        continue;\n",
    "    mean_age+=age_values[i]\n",
    "    count_age+=1\n",
    "mean_age = mean_age/count_age\n",
    "for i in range(np.shape(age_values)[0]):\n",
    "    if age_values[i]<16 or age_values[i] >80 or np.isnan(age_values[i]):\n",
    "        age_values[i] = mean_age\n",
    "\n",
    "df_combined['age'] = age_values"
   ]
  },
  {
   "cell_type": "code",
   "execution_count": 8,
   "metadata": {},
   "outputs": [
    {
     "ename": "NameError",
     "evalue": "name 'LabelEncoder' is not defined",
     "output_type": "error",
     "traceback": [
      "\u001b[0;31m---------------------------------------------------------------------------\u001b[0m",
      "\u001b[0;31mNameError\u001b[0m                                 Traceback (most recent call last)",
      "\u001b[0;32m<ipython-input-8-b6ad81a8eda5>\u001b[0m in \u001b[0;36m<module>\u001b[0;34m()\u001b[0m\n\u001b[1;32m     15\u001b[0m \u001b[0;34m\u001b[0m\u001b[0m\n\u001b[1;32m     16\u001b[0m \u001b[0;32mfor\u001b[0m \u001b[0mcategorical_feature\u001b[0m \u001b[0;32min\u001b[0m \u001b[0mcategorical_features\u001b[0m\u001b[0;34m:\u001b[0m\u001b[0;34m\u001b[0m\u001b[0m\n\u001b[0;32m---> 17\u001b[0;31m     \u001b[0mlabel_encoder\u001b[0m \u001b[0;34m=\u001b[0m \u001b[0mLabelEncoder\u001b[0m\u001b[0;34m(\u001b[0m\u001b[0;34m)\u001b[0m\u001b[0;34m\u001b[0m\u001b[0m\n\u001b[0m\u001b[1;32m     18\u001b[0m     \u001b[0mdf_combined\u001b[0m\u001b[0;34m[\u001b[0m\u001b[0mcategorical_feature\u001b[0m\u001b[0;34m]\u001b[0m \u001b[0;34m=\u001b[0m \u001b[0mlabel_encoder\u001b[0m\u001b[0;34m.\u001b[0m\u001b[0mfit_transform\u001b[0m\u001b[0;34m(\u001b[0m\u001b[0mdf_combined\u001b[0m\u001b[0;34m[\u001b[0m\u001b[0mcategorical_feature\u001b[0m\u001b[0;34m]\u001b[0m\u001b[0;34m.\u001b[0m\u001b[0mvalues\u001b[0m\u001b[0;34m)\u001b[0m\u001b[0;34m\u001b[0m\u001b[0m\n",
      "\u001b[0;31mNameError\u001b[0m: name 'LabelEncoder' is not defined"
     ]
    }
   ],
   "source": [
    "# Label Encoding of other columns\n",
    "categorical_features = [\n",
    "    'affiliate_channel',\n",
    "    'affiliate_provider',\n",
    "    'first_affiliate_tracked',\n",
    "    'first_browser',\n",
    "    'first_device_type',\n",
    "    'gender',\n",
    "    'language',\n",
    "    'signup_app',\n",
    "    'signup_method',\n",
    "    'signup_flow'\n",
    "]\n",
    "df_combined['first_affiliate_tracked'] = df_combined['first_affiliate_tracked'].fillna(value='untracked')\n",
    "\n",
    "for categorical_feature in categorical_features:\n",
    "    label_encoder = LabelEncoder()\n",
    "    df_combined[categorical_feature] = label_encoder.fit_transform(df_combined[categorical_feature].values)"
   ]
  },
  {
   "cell_type": "code",
   "execution_count": null,
   "metadata": {},
   "outputs": [],
   "source": [
    "print(categorical_feature)"
   ]
  },
  {
   "cell_type": "code",
   "execution_count": null,
   "metadata": {},
   "outputs": [],
   "source": [
    "#Preparing Data for Classifiers\n",
    "\n",
    "from sklearn.preprocessing import LabelEncoder\n",
    "from xgboost.sklearn import XGBClassifier\n",
    "\n",
    "train_size = len(labels)\n",
    "X_train = df_combined.values[:train_size]\n",
    "X_test = df_combined.values[train_size:]\n",
    "\n",
    "label_encoder = LabelEncoder()\n",
    "y_train = label_encoder.fit_transform(labels)\n",
    "\n"
   ]
  },
  {
   "cell_type": "code",
   "execution_count": null,
   "metadata": {},
   "outputs": [],
   "source": [
    "#Classifiers \n",
    "\n",
    "xgb = XGBClassifier(max_depth=6, learning_rate=0.25, n_estimators=42,\n",
    "                    objective='multi:softprob', subsample=0.6, colsample_bytree=0.6, seed=0) \n",
    "\n",
    "xgb.fit(X_train, y_train)"
   ]
  },
  {
   "cell_type": "code",
   "execution_count": null,
   "metadata": {},
   "outputs": [],
   "source": [
    "def write_submission(classifier,testdata,label_encoder,filename):\n",
    "    \n",
    "    y_pred = classifier.predict_proba(testdata)\n",
    "    id_test = df_test['id']\n",
    "    ids = []  #list of ids\n",
    "    cts = []  #list of countries\n",
    "    \n",
    "    for i in range(len(id_test)):\n",
    "        idx = id_test[i]\n",
    "        for i in range(5): ids.append(idx)\n",
    "        cts += (label_encoder.inverse_transform(np.argsort(y_pred[i])[::-1])[:5].tolist())\n",
    "\n",
    "        #Generate submission\n",
    "    sub = pd.DataFrame(np.column_stack((ids, cts)), columns=['id', 'country'])\n",
    "    sub.to_csv('./Submissions/'+filename,index=False)\n",
    "    return \n"
   ]
  },
  {
   "cell_type": "code",
   "execution_count": null,
   "metadata": {},
   "outputs": [],
   "source": [
    "write_submission(xgb,X_test,label_encoder,'Submission1')"
   ]
  },
  {
   "cell_type": "code",
   "execution_count": null,
   "metadata": {},
   "outputs": [],
   "source": [
    "from sklearn.linear_model import LogisticRegression\n",
    "from sklearn.naive_bayes import GaussianNB\n",
    "from sklearn.ensemble import RandomForestClassifier, VotingClassifier\n",
    "\n",
    "clf1 = LogisticRegression(random_state=1)\n",
    "clf2 = RandomForestClassifier(random_state=1)\n",
    "clf3 = XGBClassifier(max_depth=6, learning_rate=0.25, n_estimators=42,\n",
    "                    objective='multi:softprob', subsample=0.6, colsample_bytree=0.6, seed=0)\n",
    "\n",
    "clf4 = KNeighborsClassifier(n_neighbors=1)\n",
    "\n",
    "\n",
    "voting_classifiers = VotingClassifier(estimators=[ ('lr', clf1), ('rf', clf2), ('xgb', clf3)], voting='soft')\n",
    "voting_classifiers.fit(X_train,y_train)\n",
    "np.shape(X_train)"
   ]
  },
  {
   "cell_type": "code",
   "execution_count": null,
   "metadata": {},
   "outputs": [],
   "source": [
    "write_submission(voting_classifiers,X_test,label_encoder,'Submission_Voting.csv')"
   ]
  },
  {
   "cell_type": "code",
   "execution_count": null,
   "metadata": {},
   "outputs": [],
   "source": [
    "from mlxtend.classifier import StackingClassifier\n",
    "from sklearn.neighbors import KNeighborsClassifier\n",
    "\n",
    "clf1 = LogisticRegression(random_state=1)\n",
    "clf2 = RandomForestClassifier(random_state=1)\n",
    "clf3 = XGBClassifier(max_depth=6, learning_rate=0.25, n_estimators=42,\n",
    "                    objective='multi:softprob', subsample=0.6, colsample_bytree=0.6, seed=0)\n",
    "\n",
    "clf4 = KNeighborsClassifier(n_neighbors=1)\n",
    "\n",
    "stacking_classifier = StackingClassifier(classifiers=[clf1, clf2, clf3,clf4], meta_classifier=clf3,use_probas=True,\n",
    "                          average_probas=False)\n",
    "stacking_classifier.fit(X_train,y_train)"
   ]
  },
  {
   "cell_type": "code",
   "execution_count": null,
   "metadata": {},
   "outputs": [],
   "source": [
    "write_submission(stacking_classifier,X_test,label_encoder,'Submission_Stacking_Probas.csv')"
   ]
  }
 ],
 "metadata": {
  "kernelspec": {
   "display_name": "Python 3",
   "language": "python",
   "name": "python3"
  },
  "language_info": {
   "codemirror_mode": {
    "name": "ipython",
    "version": 3
   },
   "file_extension": ".py",
   "mimetype": "text/x-python",
   "name": "python",
   "nbconvert_exporter": "python",
   "pygments_lexer": "ipython3",
   "version": "3.6.3"
  }
 },
 "nbformat": 4,
 "nbformat_minor": 2
}
