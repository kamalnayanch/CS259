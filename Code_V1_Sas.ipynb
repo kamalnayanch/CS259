{
 "cells": [
  {
   "cell_type": "code",
   "execution_count": 29,
   "metadata": {},
   "outputs": [],
   "source": [
    "import numpy as np\n",
    "import pandas as pd\n",
    "import matplotlib.pyplot as plt\n",
    "import seaborn as sns\n",
    "from sklearn.model_selection import cross_val_predict\n",
    "from sklearn.model_selection import StratifiedKFold\n",
    "from sklearn.model_selection import train_test_split\n",
    "from sklearn.linear_model import LogisticRegression\n",
    "from sklearn.metrics import log_loss, accuracy_score\n",
    "from sklearn.feature_extraction.text import CountVectorizer\n",
    "from sklearn.feature_extraction.text import TfidfVectorizer\n",
    "from sklearn.svm import SVC\n",
    "from sklearn.decomposition import TruncatedSVD\n",
    "from sklearn.ensemble import RandomForestClassifier\n",
    "from sklearn.preprocessing import LabelEncoder\n",
    "from xgboost import XGBClassifier\n",
    "from sklearn.neural_network import MLPClassifier\n",
    "import lightgbm as lgb"
   ]
  },
  {
   "cell_type": "code",
   "execution_count": 32,
   "metadata": {},
   "outputs": [],
   "source": [
    "# Load the data into DataFrames\n",
    "train_users = pd.read_csv('train_users_2.csv')\n",
    "test_users = pd.read_csv('test_users.csv')\n",
    "sessions=pd.read_csv('sessions.csv')\n",
    "agegender=pd.read_csv('age_gender_bkts.csv')\n",
    "countries=pd.read_csv('countries.csv')"
   ]
  },
  {
   "cell_type": "code",
   "execution_count": 41,
   "metadata": {},
   "outputs": [],
   "source": [
    "X_train=train_users.drop(['id'],axis=1)\n",
    "X_test=test_users.drop(['id'],axis=1)\n",
    "X_test=X_test.drop(['date_first_booking'],axis=1)\n",
    "X_train=X_train.drop(['date_first_booking'],axis=1)"
   ]
  },
  {
   "cell_type": "code",
   "execution_count": 42,
   "metadata": {},
   "outputs": [
    {
     "name": "stdout",
     "output_type": "stream",
     "text": [
      "date_account_created\n",
      "timestamp_first_active\n",
      "gender\n",
      "age\n",
      "signup_method\n",
      "signup_flow\n",
      "language\n",
      "affiliate_channel\n",
      "affiliate_provider\n",
      "first_affiliate_tracked\n",
      "signup_app\n",
      "first_device_type\n",
      "first_browser\n"
     ]
    }
   ],
   "source": [
    "from sklearn.preprocessing import LabelEncoder\n",
    "le=LabelEncoder()\n",
    "# Iterating over all the common columns in train and test\n",
    "for col in X_test.columns.values:\n",
    "   print(col)\n",
    "   # Encoding only categorical variables\n",
    "   if X_test[col].dtypes=='object':\n",
    "   # Using whole data to form an exhaustive list of levels\n",
    "       X_test[col]=X_test[col].fillna(value='NA') \n",
    "       X_train[col]=X_train[col].fillna(value='NA') \n",
    "       data=X_train[col].append(X_test[col])\n",
    "       le.fit(data.values)\n",
    "       X_train[col]=le.transform(X_train[col])\n",
    "       X_test[col]=le.transform(X_test[col])"
   ]
  },
  {
   "cell_type": "code",
   "execution_count": 52,
   "metadata": {},
   "outputs": [],
   "source": [
    "le=LabelEncoder()\n",
    "data=X_train['country_destination']\n",
    "le.fit(data.values)\n",
    "X_train['country_destination']=le.transform(X_train['country_destination'])\n",
    "  "
   ]
  },
  {
   "cell_type": "code",
   "execution_count": 53,
   "metadata": {
    "scrolled": true
   },
   "outputs": [],
   "source": [
    "# Third: Age: Remove outliers\n",
    "age_values = X_train['age'].values\n",
    "mean_age = 0\n",
    "count_age = 0\n",
    "for i in range(np.shape(age_values)[0]):\n",
    "    if age_values[i]<10 or age_values[i] >80 or np.isnan(age_values[i]):\n",
    "        continue;\n",
    "    mean_age+=age_values[i]\n",
    "    count_age+=1\n",
    "mean_age = mean_age/count_age\n",
    "for i in range(np.shape(age_values)[0]):\n",
    "    if age_values[i]<10 or age_values[i] >80 or np.isnan(age_values[i]):\n",
    "        age_values[i] = mean_age\n",
    "\n",
    "X_train['age'] = age_values\n",
    "\n",
    "# Third: Age: Remove outliers\n",
    "age_values = X_test['age'].values\n",
    "mean_age = 0\n",
    "count_age = 0\n",
    "for i in range(np.shape(age_values)[0]):\n",
    "    if age_values[i]<10 or age_values[i] >80 or np.isnan(age_values[i]):\n",
    "        continue;\n",
    "    mean_age+=age_values[i]\n",
    "    count_age+=1\n",
    "mean_age = mean_age/count_age\n",
    "for i in range(np.shape(age_values)[0]):\n",
    "    if age_values[i]<10 or age_values[i] >80 or np.isnan(age_values[i]):\n",
    "        age_values[i] = mean_age\n",
    "\n",
    "X_test['age'] = age_values"
   ]
  },
  {
   "cell_type": "code",
   "execution_count": 54,
   "metadata": {},
   "outputs": [
    {
     "data": {
      "text/plain": [
       "0.5667103907055187"
      ]
     },
     "execution_count": 54,
     "metadata": {},
     "output_type": "execute_result"
    }
   ],
   "source": [
    "y=X_train['country_destination']\n",
    "X=X_train.loc[:, X_train.columns != 'country_destination']\n",
    "X_tr, X_te, y_tr, y_te = train_test_split(X, y, test_size=0.10, random_state=42)\n",
    "clf=RandomForestClassifier()\n",
    "clf.fit(X_tr,y_tr)\n",
    "accuracy_score(y_te,clf.predict(X_te))"
   ]
  },
  {
   "cell_type": "code",
   "execution_count": 55,
   "metadata": {},
   "outputs": [],
   "source": [
    "def write_submission(classifier,testdata,label_encoder,filename):\n",
    "    import warnings\n",
    "    warnings.filterwarnings(\"ignore\", category=DeprecationWarning) \n",
    "    \n",
    "    y_pred = classifier.predict_proba(testdata)\n",
    "    id_test = test_users['id']\n",
    "    ids = []  #list of ids\n",
    "    cts = []  #list of countries\n",
    "    \n",
    "    for i in range(len(id_test)):\n",
    "        idx = id_test[i]\n",
    "        for i in range(5): ids.append(idx)\n",
    "        cts += (label_encoder.inverse_transform(np.argsort(y_pred[i])[::-1])[:5].tolist())\n",
    "\n",
    "        #Generate submission\n",
    "    sub = pd.DataFrame(np.column_stack((ids, cts)), columns=['id', 'country'])\n",
    "    sub.to_csv('./Submissions/'+filename,index=False)\n",
    "    return"
   ]
  },
  {
   "cell_type": "code",
   "execution_count": 56,
   "metadata": {},
   "outputs": [],
   "source": [
    "write_submission(clf,X_test,le,'Submission_first_RF.csv')"
   ]
  },
  {
   "cell_type": "code",
   "execution_count": 57,
   "metadata": {},
   "outputs": [],
   "source": [
    "clf = XGBClassifier(max_depth=8,objective='multi:softprob',learning_rate=0.3333)\n",
    "clf.fit(X,y)\n",
    "write_submission(clf,X_test,le,'Submission_first_XGB.csv')"
   ]
  },
  {
   "cell_type": "code",
   "execution_count": 58,
   "metadata": {},
   "outputs": [],
   "source": [
    "clf = lgb.LGBMClassifier(objective='multiclass',num_leaves=31,learning_rate=0.05,n_estimators=20)\n",
    "clf.fit(X,y)\n",
    "write_submission(clf,X_test,le,'Submission_first_LGBM.csv')"
   ]
  },
  {
   "cell_type": "code",
   "execution_count": null,
   "metadata": {},
   "outputs": [],
   "source": []
  }
 ],
 "metadata": {
  "kernelspec": {
   "display_name": "Python 3",
   "language": "python",
   "name": "python3"
  },
  "language_info": {
   "codemirror_mode": {
    "name": "ipython",
    "version": 3
   },
   "file_extension": ".py",
   "mimetype": "text/x-python",
   "name": "python",
   "nbconvert_exporter": "python",
   "pygments_lexer": "ipython3",
   "version": "3.6.4"
  }
 },
 "nbformat": 4,
 "nbformat_minor": 2
}
